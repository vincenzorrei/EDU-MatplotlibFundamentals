{
 "cells": [
  {
   "cell_type": "code",
   "execution_count": null,
   "metadata": {},
   "outputs": [],
   "source": [
    "import numpy as np\n",
    "import pandas as pd\n",
    "import matplotlib.pyplot as plt\n",
    "import seaborn as sns\n"
   ]
  },
  {
   "cell_type": "code",
   "execution_count": null,
   "metadata": {},
   "outputs": [],
   "source": [
    "# Fixing random state for reproducibility\n",
    "np.random.seed(19680801)\n",
    "\n",
    "# Creazione dati artificiali\n",
    "N = 100\n",
    "r0 = 0.6\n",
    "x = 0.9 * np.random.rand(N)\n",
    "y = 0.9 * np.random.rand(N)\n",
    "area = (20 * np.random.rand(N))**2  # 0 to 10 point radii\n",
    "\n",
    "\n",
    "# Impostazioni grafico\n",
    "c = np.sqrt(area)\n",
    "r = np.sqrt(x ** 2 + y ** 2)\n",
    "area1 = np.ma.masked_where(r < r0, area)\n",
    "area2 = np.ma.masked_where(r >= r0, area)\n",
    "plt.scatter(x, y, s=area1, marker='^', c=c)\n",
    "plt.scatter(x, y, s=area2, marker='o', c=c)\n",
    "# Show the boundary between the regions:\n",
    "theta = np.arange(0, np.pi / 2, 0.01)\n",
    "plt.plot(r0 * np.cos(theta), r0 * np.sin(theta))\n",
    "\n",
    "plt.show()"
   ]
  },
  {
   "cell_type": "code",
   "execution_count": null,
   "metadata": {},
   "outputs": [],
   "source": [
    "pippo = pd.read_csv('https://raw.githubusercontent.com/vincenzorrei/EDU-Datasets/refs/heads/main/Advertising.csv')\n",
    "pippo"
   ]
  },
  {
   "cell_type": "code",
   "execution_count": null,
   "metadata": {},
   "outputs": [],
   "source": [
    "# Generare dati artificiali\n",
    "np.random.seed(42)\n",
    "x = np.linspace(0, 10, 100)  # 100 punti equidistanti tra 0 e 10\n",
    "y = np.sin(x) + np.random.normal(scale=0.1, size=len(x))  # Seno con rumore\n"
   ]
  },
  {
   "cell_type": "code",
   "execution_count": null,
   "metadata": {},
   "outputs": [],
   "source": [
    "coord_x = np.linspace(0, 10, 100)  # 100 punti equidistanti tra 0 e 10\n",
    "coord_y = np.sin(x) + np.random.normal(scale=0.1, size=len(x))  # Seno con rumore\n",
    "\n",
    "dimensione_z = np.random.normal(scale=0.1, size=len(x))  # Coseno con rumore\n",
    "gruppo_k = np.random.randint(1, 7, size=len(x))  # Valori casuali per le dimensioni dei punti\n",
    "\n",
    "plt.scatter(coord_x, coord_y,\n",
    "            s=dimensione_z*3000,\n",
    "            c=gruppo_k, cmap='viridis')"
   ]
  }
 ],
 "metadata": {
  "kernelspec": {
   "display_name": ".venv",
   "language": "python",
   "name": "python3"
  },
  "language_info": {
   "name": "python",
   "version": "3.12.4"
  }
 },
 "nbformat": 4,
 "nbformat_minor": 2
}
