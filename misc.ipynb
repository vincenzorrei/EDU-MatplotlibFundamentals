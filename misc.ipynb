{
 "cells": [
  {
   "cell_type": "code",
   "execution_count": null,
   "metadata": {},
   "outputs": [],
   "source": [
    "import numpy as np\n",
    "import pandas as pd\n",
    "import matplotlib.pyplot as plt\n",
    "import seaborn as sns\n"
   ]
  },
  {
   "cell_type": "code",
   "execution_count": null,
   "metadata": {},
   "outputs": [],
   "source": [
    "# Generate artificial data\n",
    "np.random.seed(42)\n",
    "x = np.linspace(0, 10, 100)  # 100 equidistant points between 0 and 10\n",
    "y = np.sin(x) + np.random.normal(scale=0.1, size=len(x))  # Sine with noise\n",
    "\n",
    "# Create a new line plot\n",
    "plt.figure(figsize=(10, 5))\n",
    "\n",
    "# Lime lineplot\n",
    "plt.plot(x, y, marker=\"o\", linestyle=\"-\", color=\"lime\", alpha=0.7, label=\"Curva lime\")\n",
    "\n",
    "# Create a new y for another series\n",
    "y2 = np.sin(x-1) + np.random.normal(scale=0.1, size=len(x))  # Sine with noise\n",
    "\n",
    "# SALMON lineplot\n",
    "plt.plot(x, y2, marker=\"o\", linestyle=\"-\", color=\"darksalmon\", alpha=0.7, label=\"Curva salmone\")\n",
    "\n",
    "# Fill between\n",
    "plt.fill_between(x, y, y2, color=\"lightblue\", alpha=0.7)\n",
    "\n",
    "# Add a BLUE horizontal line\n",
    "plt.plot([2, 8], [-0.5, 0.5], marker=\">\", linestyle=\"-\", color=\"dodgerblue\", alpha=0.7, label=\"Linea blu\")\n",
    "\n",
    "# Single triangle\n",
    "plt.scatter([5], [0.5], marker=\"v\", linestyle=\"-\", color=\"darkred\", alpha=0.7, label=\"Triangolo rosso\") # we use scatter to make it simply a point\n",
    "\n",
    "# Add labels and title\n",
    "plt.xlabel(\"Questa e la ylabel\")\n",
    "plt.ylabel(\"Questa e la ylabel\")\n",
    "plt.title(\"Qui va il titolo\")\n",
    "plt.legend() # automatically takes the labels we've selected for each plot\n",
    "plt.grid(True, color=\"gray\", alpha=0.5)\n",
    "\n",
    "# Show the plot\n",
    "plt.show()\n"
   ]
  }
 ],
 "metadata": {
  "kernelspec": {
   "display_name": ".venv",
   "language": "python",
   "name": "python3"
  },
  "language_info": {
   "name": "python",
   "version": "3.12.4"
  }
 },
 "nbformat": 4,
 "nbformat_minor": 2
}
