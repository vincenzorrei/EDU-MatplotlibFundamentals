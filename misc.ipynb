{
 "cells": [
  {
   "cell_type": "code",
   "execution_count": null,
   "metadata": {},
   "outputs": [],
   "source": [
    "import numpy as np\n",
    "import pandas as pd\n",
    "import matplotlib.pyplot as plt\n",
    "import seaborn as sns\n"
   ]
  },
  {
   "cell_type": "code",
   "execution_count": null,
   "metadata": {},
   "outputs": [],
   "source": [
    "# Generare dati artificiali\n",
    "np.random.seed(42)\n",
    "x = np.linspace(0, 10, 100)  # 100 punti equidistanti tra 0 e 10\n",
    "y = np.sin(x) + np.random.normal(scale=0.1, size=len(x))  # Seno con rumore\n",
    "\n",
    "# Creare un nuovo grafico a linee\n",
    "plt.figure(figsize=(10, 5))\n",
    "\n",
    "# Lineplot Lime\n",
    "plt.plot(x, y, marker=\"o\", linestyle=\"-\", color=\"lime\", alpha=0.7, label=\"Curva lime\")\n",
    "\n",
    "# Creazionhe di una nuov y per un'altra serie\n",
    "y2 = np.sin(x-1) + np.random.normal(scale=0.1, size=len(x))  # Seno con rumore\n",
    "\n",
    "# Lineplot SALMONE\n",
    "plt.plot(x, y2, marker=\"o\", linestyle=\"-\", color=\"darksalmon\", alpha=0.7, label=\"Curva salmone\")\n",
    "\n",
    "# Riempimento\n",
    "plt.fill_between(x, y, y2, color=\"lightblue\", alpha=0.7)\n",
    "\n",
    "# Aggiungere una linea orizzontale BLU\n",
    "plt.plot([2, 8], [-0.5, 0.5], marker=\">\", linestyle=\"-\", color=\"dodgerblue\", alpha=0.7, label=\"Linea blu\")\n",
    "\n",
    "# Triangolo singolo \n",
    "plt.scatter([5], [0.5], marker=\"v\", linestyle=\"-\", color=\"darkred\", alpha=0.7, label=\"Triangolo rosso\") # usiamo scatter per far si che sia semplicemnte un punto\n",
    "\n",
    "# Aggiungere etichette e titolo\n",
    "plt.xlabel(\"Questa e la ylabel\")\n",
    "plt.ylabel(\"Questa e la ylabel\")\n",
    "plt.title(\"Qui va il titolo\")\n",
    "plt.legend() # prende in automatico le label che abbiamo selezionato ad ogni plot\n",
    "plt.grid(True, color=\"gray\", alpha=0.5)\n",
    "\n",
    "# Mostrare il grafico\n",
    "plt.show()\n"
   ]
  }
 ],
 "metadata": {
  "kernelspec": {
   "display_name": ".venv",
   "language": "python",
   "name": "python3"
  },
  "language_info": {
   "name": "python",
   "version": "3.12.4"
  }
 },
 "nbformat": 4,
 "nbformat_minor": 2
}
